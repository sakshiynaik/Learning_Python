{
  "cells": [
    {
      "cell_type": "markdown",
      "metadata": {
        "id": "view-in-github",
        "colab_type": "text"
      },
      "source": [
        "<a href=\"https://colab.research.google.com/github/sakshiynaik/Learning_Python/blob/main/Python_Exercise.ipynb\" target=\"_parent\"><img src=\"https://colab.research.google.com/assets/colab-badge.svg\" alt=\"Open In Colab\"/></a>"
      ]
    },
    {
      "cell_type": "markdown",
      "metadata": {
        "id": "eTqSYLEvmoO9"
      },
      "source": [
        "## Exercise - Basics"
      ]
    },
    {
      "cell_type": "markdown",
      "metadata": {
        "id": "DA4QcC5v7trm"
      },
      "source": [
        "## Topics Covered\n",
        "\n",
        "This exercise goes over:\n",
        "\n",
        "* Variables\n",
        "* Operators\n",
        "* Conditional Statements\n",
        "* Lists\n",
        "* Dictionaries\n",
        "* Loops\n",
        "\n",
        "## Question\n",
        "\n",
        "Write a Python script to find out what jobs you are qualified based on a set of skills. The script will evaluate a list of job roles, each associated with its own set of required skills, against the skills you have. Determine which roles you're potentially qualified for and print out these roles. If there are no roles that match your skills, print a message saying there are no matching job roles based on the provided skills.\n",
        "\n",
        "We have some pre-defined variables that you will be using:\n",
        "\n",
        "1. `job_roles`: list of dictionaries, where each dictionary represents a different job role within data science. Each dictionary has the key-value pairs:\n",
        "    * `role`: Name of the job role\n",
        "    * `skills`: A list of strings, each representing a skill required for the job\n",
        "2. `my_skills`: A list of strings, representing the skills you have"
      ]
    },
    {
      "cell_type": "code",
      "execution_count": null,
      "metadata": {
        "id": "ys3gEfkF7trn"
      },
      "outputs": [],
      "source": [
        "# Define data science job roles and required skills\n",
        "job_roles = [\n",
        "    {'role': 'Data Analyst', 'skills': ['Python', 'SQL', 'Excel']},\n",
        "    {'role': 'Data Scientist', 'skills': ['Python', 'R', 'Machine Learning', 'Deep Learning']},\n",
        "    {'role': 'Machine Learning Engineer', 'skills': ['Python', 'TensorFlow', 'PyTorch', 'Scikit-Learn']},\n",
        "    {'role': 'Data Engineer', 'skills': ['Python', 'Apache Spark', 'Hadoop', 'SQL']},\n",
        "    {'role': 'Business Intelligence Analyst', 'skills': ['Python', 'SQL', 'Tableau', 'Power BI', 'Excel']},\n",
        "    {'role': 'Quantitative Analyst', 'skills': ['R', 'Python', 'MATLAB', 'Statistics']},\n",
        "    {'role': 'Operations Analyst', 'skills': ['Python', 'SQL', 'Data Visualization', 'Process Improvement']},\n",
        "    {'role': 'Database Administrator', 'skills': ['SQL', 'Oracle', 'MySQL', 'Database Management']},\n",
        "    {'role': 'AI Engineer', 'skills': ['Python', 'TensorFlow', 'PyTorch', 'Computer Vision']},\n",
        "    {'role': 'Statistician', 'skills': ['R', 'SAS', 'Python', 'Statistical Modeling']}\n",
        "]\n",
        "# My skills\n",
        "my_skills = ['Python', 'SQL', 'Excel']"
      ]
    },
    {
      "cell_type": "code",
      "source": [
        "qualified_roles = []\n",
        "for job in job_roles:\n",
        "  qualified = True\n",
        "\n",
        "  for skill in my_skills:\n",
        "    if skill not in job['skills']:\n",
        "      qualified = False\n",
        "      break\n",
        "  if qualified:\n",
        "     qualified_roles.append(job['role'])\n",
        "\n",
        "qualified_roles\n"
      ],
      "metadata": {
        "colab": {
          "base_uri": "https://localhost:8080/"
        },
        "id": "BS3o315fC7Jj",
        "outputId": "b171ca61-a421-499f-82ff-d61babe39c89"
      },
      "execution_count": null,
      "outputs": [
        {
          "output_type": "execute_result",
          "data": {
            "text/plain": [
              "['Data Analyst', 'Business Intelligence Analyst']"
            ]
          },
          "metadata": {},
          "execution_count": 97
        }
      ]
    },
    {
      "cell_type": "markdown",
      "metadata": {
        "id": "RAO870RA7tro"
      },
      "source": [
        "**Step 1**: Iterate through each job role in `job_roles` and determine whether or not you have the required skills. Get the roles you are qualified for in a list.\n",
        "\n",
        "**Notes**:\n",
        "* Create an empty list where we will put the roles we qualify for `qualified_roles`.\n",
        "* Use a `for` loop to go through the jobs.\n",
        "* Nested `for` loop to look through the skills for each role.\n",
        "* An `if` statement checks if the skill in the role is in the list of skills provided.\n",
        "* If it's true then add that role to the `qualified_roles` list we created."
      ]
    },
    {
      "cell_type": "code",
      "execution_count": null,
      "metadata": {
        "id": "SiWc5z_S7trp",
        "outputId": "ebc22dd3-36be-4037-83cf-b92e6c041302"
      },
      "outputs": [
        {
          "data": {
            "text/plain": [
              "['Data Analyst', 'Business Intelligence Analyst']"
            ]
          },
          "execution_count": 2,
          "metadata": {},
          "output_type": "execute_result"
        }
      ],
      "source": [
        "# Determine which jobs you're qualified for\n",
        "qualified_role = []\n",
        "\n",
        "for job in job_roles:\n",
        "    # Initialize qualified flag\n",
        "    qualified = True\n",
        "    # Go through each skill in the skills key\n",
        "    for skill in my_skills:\n",
        "\n",
        "        if skill not in job['skills']:\n",
        "            qualified = False\n",
        "            break\n",
        "    if qualified:\n",
        "        # Add the job dictionary to the qualified_jobs list\n",
        "        qualified_roles.append(job['role'])\n",
        "qualified_roles"
      ]
    },
    {
      "cell_type": "markdown",
      "metadata": {
        "id": "P5cphuMI7trq"
      },
      "source": [
        "Technically you can write this more succinctly using the `all()` function."
      ]
    },
    {
      "cell_type": "code",
      "execution_count": null,
      "metadata": {
        "colab": {
          "base_uri": "https://localhost:8080/"
        },
        "id": "_F6xhXQUiNX-",
        "outputId": "65dcc832-2e0a-4e87-cd80-ae65d187726d"
      },
      "outputs": [
        {
          "data": {
            "text/plain": [
              "['Data Analyst', 'Business Intelligence Analyst']"
            ]
          },
          "execution_count": 3,
          "metadata": {},
          "output_type": "execute_result"
        }
      ],
      "source": [
        "# Determine which jobs you're qualified for\n",
        "qualified_roles = []\n",
        "\n",
        "for job in job_roles:\n",
        "    # Check if all required skills are in my_skills\n",
        "    if all(skill in job['skills'] for skill in my_skills):\n",
        "        # Add the job role to the qualified_roles list\n",
        "        qualified_roles.append(job['role'])\n",
        "\n",
        "qualified_roles"
      ]
    },
    {
      "cell_type": "markdown",
      "metadata": {
        "id": "w2LxBkbf7trs"
      },
      "source": [
        "**Step 2**: Print out the names of the roles you're potentially qualified for in a `print()` statement.\n",
        "\n",
        "**Notes**:\n",
        "* If the `qualified_roles` list is not empty (aka we have roles we're qualified for):\n",
        "    * Print the roles I'm qualified as a string using `.join` method\n",
        "* If the list is empty (meaning we don't qualify for any roles):\n",
        "    * Print that there's no matching job roles for my skills."
      ]
    },
    {
      "cell_type": "code",
      "execution_count": null,
      "metadata": {
        "id": "cogglfVV7trs",
        "outputId": "06b715ae-f27a-410a-e210-227bb3199652"
      },
      "outputs": [
        {
          "name": "stdout",
          "output_type": "stream",
          "text": [
            "Qualified for the following roles: Data Analyst, Business Intelligence Analyst\n"
          ]
        }
      ],
      "source": [
        "# Output qualified job roles\n",
        "if qualified_roles:\n",
        "    output_message = 'Qualified for the following roles: ' + ', '.join(qualified_roles)\n",
        "    print(output_message)\n",
        "else:\n",
        "    print('There are no matching job roles for my skills.')"
      ]
    },
    {
      "cell_type": "markdown",
      "metadata": {
        "id": "KQvrzpK17trt"
      },
      "source": [
        "## List Comprehension Solution\n",
        "\n",
        "Note: This solution above can be solved with list comprehension.\n",
        "\n",
        "However, for newer programmers it's sometimes harder to wrap your head around list comprehension.\n",
        "\n",
        "Because of this I suggest writing out your code in for loops and THEN consider shifting to list comprehension."
      ]
    },
    {
      "cell_type": "code",
      "execution_count": null,
      "metadata": {
        "id": "Dzaawu7S7trt",
        "outputId": "f87661cc-8363-4772-d3d4-c193e4d01a9a"
      },
      "outputs": [
        {
          "name": "stdout",
          "output_type": "stream",
          "text": [
            "Qualified for the following roles:  Data Analyst\n"
          ]
        }
      ],
      "source": [
        "qualified_roles = [job['role'] for job in job_roles if all(skill in my_skills for skill in job['skills'])]\n",
        "\n",
        "print('Qualified for the following roles: ', ', '.join(qualified_roles))"
      ]
    }
  ],
  "metadata": {
    "colab": {
      "provenance": [],
      "include_colab_link": true
    },
    "kernelspec": {
      "display_name": "Python 3",
      "name": "python3"
    },
    "language_info": {
      "codemirror_mode": {
        "name": "ipython",
        "version": 3
      },
      "file_extension": ".py",
      "mimetype": "text/x-python",
      "name": "python",
      "nbconvert_exporter": "python",
      "pygments_lexer": "ipython3",
      "version": "3.11.9"
    }
  },
  "nbformat": 4,
  "nbformat_minor": 0
}